{
  "nbformat": 4,
  "nbformat_minor": 0,
  "metadata": {
    "colab": {
      "name": "StackUsingLinkedList.ipynb",
      "provenance": []
    },
    "kernelspec": {
      "name": "python3",
      "display_name": "Python 3"
    },
    "language_info": {
      "name": "python"
    }
  },
  "cells": [
    {
      "cell_type": "markdown",
      "metadata": {
        "id": "dAnwdkLCQ1-_"
      },
      "source": [
        "###Stack with linked LIst\n",
        "1. Push operation\n",
        "> Basically we are inserting an elemnet at the begining of the linked list\n",
        "\n",
        "2. Pop\n",
        "> We are deleting an elemnet at the begining of the linked list `self.head = self.head.next`\n",
        "\n",
        "3. Peek\n",
        "> returns the first element of linked list `return self.head`\n",
        "\n",
        "4. isEmpty\n",
        ">if head points to None \n",
        "\n",
        "5. delete\n",
        ">by setting head reference to null `head.None`\n",
        "\n",
        "\n",
        "\n",
        "\n"
      ]
    },
    {
      "cell_type": "code",
      "metadata": {
        "id": "XxIoUZE5SNn9"
      },
      "source": [
        "class Node:\n",
        "  def __init__(self,value):\n",
        "    self.value = value\n",
        "    self.next = next\n",
        "\n",
        "class LinkedList:\n",
        "  def __init__(self):\n",
        "    self.head =None\n",
        "\n",
        "  \n",
        "class Stack:\n",
        "  #create Stack\n",
        "  def __init__(self):\n",
        "    self.LinkedList = LinkedList()\n",
        "\n",
        "  #iter -- to print the list\n",
        "  def __iter__(self):\n",
        "    currentNode = self.head\n",
        "    while currentNode:\n",
        "      yield currentNode\n",
        "      currentNode = currentNode.next\n",
        "\n",
        "  #isEmpty\n",
        "  def isEmpty(self):\n",
        "    if self.LinkedList.head == None:\n",
        "      return True\n",
        "    else:\n",
        "      return False\n",
        "  \n",
        "  #push  \n",
        "  def push(self,val):\n",
        "    newNode = Node(val)\n",
        "    newNode.next = self.LinkedList.head\n",
        "    self.LinkedList.head = newNode\n",
        "\n",
        "  #pop\n",
        "  def pop(self):\n",
        "    if  self.isEmpty:\n",
        "      return \"EEmpty Stack\"\n",
        "    else:\n",
        "      nodevalue = self.LinkedList.head.value #firstNode\n",
        "      self.LinkedList.head  = self.LinkedList.head.next\n",
        "      return nodevalue\n",
        "\n",
        "  #peek\n",
        "  def peek(self):\n",
        "    if  self.isEmpty:\n",
        "      return \"EEmpty Stack\"\n",
        "    else:\n",
        "      return self.LinkedList.head.value\n",
        "\n",
        "  #delete\n",
        "  def delete(self):\n",
        "    self.LinkedList.head = None\n",
        "\n",
        "\n"
      ],
      "execution_count": 1,
      "outputs": []
    },
    {
      "cell_type": "markdown",
      "metadata": {
        "id": "plOYFZTKW60N"
      },
      "source": [
        "###Time & Space complexity \n",
        "\n",
        "1. creat stack `O(1)` & `O(1)`\n",
        "2. Push `O(1)` & `O(1)`\n",
        "3. pop `O(1)` & `O(1)`\n",
        "4. Peek `O(1)` & `O(1)`\n",
        "5. isEmpty `O(1)` & `O(1)`\n",
        "6. delete full stack `O(1)` & `O(1)`"
      ]
    }
  ]
}