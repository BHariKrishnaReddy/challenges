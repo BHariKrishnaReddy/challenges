{
  "nbformat": 4,
  "nbformat_minor": 0,
  "metadata": {
    "colab": {
      "name": "Queues_using_Lists.ipynb",
      "provenance": []
    },
    "kernelspec": {
      "name": "python3",
      "display_name": "Python 3"
    },
    "language_info": {
      "name": "python"
    }
  },
  "cells": [
    {
      "cell_type": "markdown",
      "metadata": {
        "id": "hz5CiSxLLQC6"
      },
      "source": [
        "###Queue\n",
        "It is a datastucture that stores items in a first-in/first-out `FIFO`\n",
        "\n",
        "Operatoins can be performed on Queue\n",
        ">Create Queue,Enqueue(insert),Dequeue(delete),Peek,isEmpty,isFull,deleteQueue"
      ]
    },
    {
      "cell_type": "markdown",
      "metadata": {
        "id": "YvMBPemsOgWm"
      },
      "source": [
        "###Queue implemented with List with out size Limt\n",
        "\n",
        "\n",
        "###Time & Space complexity \n",
        "\n",
        "1. creat  `O(1)` & `O(1)`\n",
        "2. Enqueue `O(n)` & `O(1)`\n",
        "3. Dequeue `O(n)` & `O(1)`\n",
        "4. Peek `O(1)` & `O(1)`\n",
        "5. isEmpty `O(1)` & `O(1)`\n",
        "6. delete `O(1)` & `O(1)`"
      ]
    },
    {
      "cell_type": "code",
      "metadata": {
        "id": "gn3-avJUOokK"
      },
      "source": [
        "class Queue:\n",
        "  def __int__(self):\n",
        "    self.items=[]\n",
        "  \n",
        "  def __str__(self):\n",
        "    val = [str(x) for x in self.items]\n",
        "    return ' '.join(val)\n",
        "  \n",
        "  #isEmpty\n",
        "  def isEmpty(self):\n",
        "    if self.items == []:\n",
        "      return True\n",
        "    else:\n",
        "      return False\n",
        "  \n",
        "  #Enqueue\n",
        "  def enqueue(self,val):\n",
        "    return self.item.append(val)\n",
        "\n",
        "  #Dequeue -O(n) complexity\n",
        "  def dequeue(self):\n",
        "    if self.isEmpty():\n",
        "      return 'No elements'\n",
        "    else:\n",
        "      return self.items.pop(0)\n",
        "\n",
        "  #Peek\n",
        "  def peek(self):\n",
        "    return self.items[0]\n",
        "\n",
        "  #Delete\n",
        "  def delete(self):\n",
        "    self.items = []\n",
        "    return self.items"
      ],
      "execution_count": 2,
      "outputs": []
    },
    {
      "cell_type": "markdown",
      "metadata": {
        "id": "qz8W78hdRZYj"
      },
      "source": [
        "###Queue in List with SizeLimt is also a circular queue\n",
        "\n",
        "###Time & Space complexity \n",
        "\n",
        "1. creat  `O(1)` & `O(n)`\n",
        "2. Enqueue `O(n)` & `O(1)`\n",
        "3. Dequeue `O(n)` & `O(1)`\n",
        "4. Peek `O(1)` & `O(1)`\n",
        "5. isEmpty `O(1)` & `O(1)`\n",
        "6. delete `O(1)` & `O(1)`"
      ]
    },
    {
      "cell_type": "code",
      "metadata": {
        "id": "83pKIG0WRjt_"
      },
      "source": [
        "class Queue:\n",
        "  def __init__(self,maxSize):\n",
        "    self.items = maxSize =[None]\n",
        "    self.maxSize = maxSize\n",
        "    self.start = -1\n",
        "    self.top = -1\n",
        "\n",
        "  def __str__(self):\n",
        "    val = [str(x) for x in self.items]\n",
        "    return ' '.join(val)\n",
        "\n",
        "  def isFull(self):\n",
        "    if self.top+1 ==self.start : #this is circular so when we incres last point if it touches first point then it is full !\n",
        "      return True\n",
        "    elif self.start == 0 and self.top+1 == self.maxSize :\n",
        "      return True\n",
        "    else:\n",
        "      return False\n",
        "\n",
        "  def isEmpty(self):\n",
        "    if self.top == -1 :\n",
        "      return True\n",
        "    else:\n",
        "      return False\n",
        "\n",
        "  def enQueue(self,val):\n",
        "    if self.isFull() :\n",
        "      return \"Queue is full\"\n",
        "    else:\n",
        "      # our top element points to last element of list so we will update top -> 0 else increase the top\n",
        "      #if we are adding first element we need to update the start value so \n",
        "      #finally we will update the element\n",
        "      if self.top + 1 == self.maxSize:\n",
        "        self.top = 0\n",
        "      else:\n",
        "        self.top +=1\n",
        "        if self.start == -1:\n",
        "          self.start = 0:\n",
        "      self.items[self.top] = val\n",
        "      return \"element is updated at the end of the queue\"\n",
        "\n",
        "\n",
        "  def deQueue(self):\n",
        "    if self.isEmpty():\n",
        "      return \"Queue is empty\"\n",
        "    else:\n",
        "      #it is like updating the start and returning the value of it\n",
        "      firstelement = self.items[self.start]\n",
        "      start = self.start\n",
        "      if self.start == self.top: #if it is the only element in the queue\n",
        "        self.start=-1\n",
        "        self.top = -1\n",
        "      elif self.start +1 == self.maxSize:\n",
        "        self.start = 0\n",
        "      else:\n",
        "        self.start +=1\n",
        "      self.items[start] = None\n",
        "      return firstElement\n",
        "\n",
        "  def peek(self):\n",
        "    if self.isEmpty():\n",
        "      return \"Empty\"\n",
        "    else:\n",
        "      return self.items[self.start]\n",
        "\n",
        "  def delete(self):\n",
        "    self.items = self.maxSize * [None]\n",
        "    self.top,self.start = -1,-1"
      ],
      "execution_count": null,
      "outputs": []
    }
  ]
}