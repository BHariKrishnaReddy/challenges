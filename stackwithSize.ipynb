{
  "nbformat": 4,
  "nbformat_minor": 0,
  "metadata": {
    "colab": {
      "name": "stackwithSize.ipynb",
      "provenance": []
    },
    "kernelspec": {
      "name": "python3",
      "display_name": "Python 3"
    },
    "language_info": {
      "name": "python"
    }
  },
  "cells": [
    {
      "cell_type": "code",
      "metadata": {
        "id": "yXTGEYyZMw-S"
      },
      "source": [
        "class Stack:\n",
        "  def __init__(self,maxSize):\n",
        "    self.maxSize = maxSize\n",
        "    self.list = []\n",
        "  \n",
        "  #to vizulize the data in proper way. Printing our Stack\n",
        "  def __str__(self):\n",
        "    values = self.list.reverse\n",
        "    values = [str(x) for x in self.list]\n",
        "    return '\\n',join(values)\n",
        "\n",
        "\n",
        "  #isEmpty\n",
        "  def isEmpty(self):\n",
        "    if self.list == []:\n",
        "      return True\n",
        "    else:\n",
        "      return False\n",
        "\n",
        "\n",
        "  #isFull\n",
        "  def isFull(self):\n",
        "    if len(self.list) == maxSize:\n",
        "      return True\n",
        "    else:\n",
        "      return False\n",
        "  \n",
        "  #push\n",
        "  def push(self,val):\n",
        "    if self.isFull():\n",
        "      return \"Stack is full\"\n",
        "    else:\n",
        "      return self.list.append(val)\n",
        "  \n",
        "  #pop\n",
        "  def pop()\n",
        "  if self.list == []:\n",
        "    return \"empty Stack\"\n",
        "  else:\n",
        "    return self.list.pop()\n",
        "\n",
        "  #peek\n",
        "  def peek(self):\n",
        "    return self.list.list[len(self.list)-1]\n",
        "\n",
        "  #delete\n",
        "  def delete(self):\n",
        "    self.list == None\n",
        "\n",
        "\n",
        "\n",
        "    "
      ],
      "execution_count": null,
      "outputs": []
    },
    {
      "cell_type": "markdown",
      "metadata": {
        "id": "MEnzVHGyPlfK"
      },
      "source": [
        "###Time & Space complexity \n",
        "\n",
        "1. creat stack `O(1)` & `O(1)`\n",
        "2. Push `O(1)/O(n**2)` & `O(1)`\n",
        "3. pop `O(1)` & `O(1)`\n",
        "4. Peek `O(1)` & `O(1)`\n",
        "5. isEmpty `O(1)` & `O(1)`\n",
        "6. delete full stack `O(1)` & `O(1)`"
      ]
    }
  ]
}