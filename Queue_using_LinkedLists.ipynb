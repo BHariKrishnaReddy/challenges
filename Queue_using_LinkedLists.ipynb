{
  "nbformat": 4,
  "nbformat_minor": 0,
  "metadata": {
    "colab": {
      "name": "Queue_using_LinkedLists.ipynb",
      "provenance": []
    },
    "kernelspec": {
      "name": "python3",
      "display_name": "Python 3"
    },
    "language_info": {
      "name": "python"
    }
  },
  "cells": [
    {
      "cell_type": "markdown",
      "metadata": {
        "id": "iaZpEBzwhRku"
      },
      "source": [
        "###Queue\n",
        "It is a datastucture that stores items in a first-in/first-out `FIFO`\n",
        "\n",
        "Operatoins can be performed on Queue\n",
        ">Create Queue,Enqueue(insert),Dequeue(delete),Peek,isEmpty,isFull,deleteQueue\n",
        "\n",
        "###Time & Space complexity \n",
        "\n",
        "1. creat  `O(1)` & `O(1)`\n",
        "2. Enqueue `O(1)` & `O(1)`\n",
        "3. Dequeue `O(1)` & `O(1)`\n",
        "4. Peek `O(1)` & `O(1)`\n",
        "5. isEmpty `O(1)` & `O(1)`\n",
        "6. delete `O(1)` & `O(1)`"
      ]
    },
    {
      "cell_type": "code",
      "metadata": {
        "id": "ND2PJ_1PhgBP"
      },
      "source": [
        "class Node:\n",
        "  def __init__(self,val):\n",
        "    self.val = val\n",
        "    self.next = None\n",
        "\n",
        "  #to print our Node\n",
        "  def __str__(self):\n",
        "    return str(self.value)\n",
        "\n",
        "class LinkedList:\n",
        "  def __init__(self):\n",
        "    self.head = None\n",
        "    self.tail = None\n",
        "\n",
        "\n",
        "  #making our LinkedList iterable\n",
        "  def __iter__(self):\n",
        "    currentNode = self.head\n",
        "    while currentNode:\n",
        "      yield currentNode\n",
        "      currentNode = currentNode.next\n",
        "\n",
        "\n",
        "class Queue:\n",
        "  def __init__(self):\n",
        "    self.linkedList = LinkedList()\n",
        "\n",
        "  #make our queue printable\n",
        "  def __str__(self):\n",
        "    val = [str(x) for x in self.linkedList]\n",
        "    return ' '.join(values)\n",
        "\n",
        "  def isEmpty(self):\n",
        "    if self.linkedList.head == None:\n",
        "      return True\n",
        "    else:\n",
        "      return False\n",
        "\n",
        "\n",
        "  def enqueue(self,val):\n",
        "    #change the tail reference\n",
        "    newNode = Node(val)\n",
        "    if self.linkedList.head == None:\n",
        "      self.linkedList.head = newNode\n",
        "      self.linkedList.tail = newNode\n",
        "    else:\n",
        "      self.linkedList.tail.next = newNode\n",
        "      self.linkedList.tail = newNode\n",
        "\n",
        "  def dequeue(self):\n",
        "    if self.LinkedList.head == None:\n",
        "      return \"Empty\"\n",
        "    else:\n",
        "      temp = self.linkedList.head\n",
        "      if self.linkedList.head == self.linkedList.tail:\n",
        "        self.linkedList.head = None\n",
        "        self.linkedList.tail = None\n",
        "      else:\n",
        "        self.linkedList.head = self.linkedList.head.next\n",
        "      return temp\n",
        "\n",
        "  def peek(self):\n",
        "    if self.isEmpty():\n",
        "      return \"Empty\"\n",
        "    else:\n",
        "      return self.linkedList.head\n",
        "\n",
        "  def delete(self):\n",
        "    self.linkedList.head = None\n",
        "    self.linkedList.tail = None"
      ],
      "execution_count": 2,
      "outputs": []
    }
  ]
}