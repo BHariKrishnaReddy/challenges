{
  "nbformat": 4,
  "nbformat_minor": 0,
  "metadata": {
    "colab": {
      "name": "Tree_basics.ipynb",
      "provenance": []
    },
    "kernelspec": {
      "name": "python3",
      "display_name": "Python 3"
    },
    "language_info": {
      "name": "python"
    }
  },
  "cells": [
    {
      "cell_type": "markdown",
      "metadata": {
        "id": "WKxVHp-jAPmG"
      },
      "source": [
        "### Tree\n",
        ">A tree is a non linear data structure with hierarchical relation ships between its elements without having any cycle.it is basically reversed from a real life tree\n",
        "\n",
        "Properties\n",
        "1. Represent hierarchical data\n",
        "2. Each node has two components : data and a link(s) to its sub category\n",
        "3. Base category and sub categories under it\n",
        "\n",
        "Why or Where to Use !\n",
        "1. Quicker and Easy to access data\n",
        "2. Hierarchical data (folder struct,organization struct...)\n",
        "\n",
        "\n",
        "##Tree Terminalogy\n",
        "1. `Root` top node without a parent\n",
        "2. `Edge` a link between parent and chlid\n",
        "3. `Leaf` a node which does not have children\n",
        "4. `Sibling` chlid of same parent\n",
        "5. `Ancestor` parent grandparent,.... of a node\n",
        "6. `Depth of Node` a lenght of the path from root node\n",
        "7. `Height of node` a lenght of the path from the node to the deepest node\n",
        "8. `Depth of tree` depth of root node\n",
        "9. `Height of tree` height of root node\n"
      ]
    },
    {
      "cell_type": "code",
      "metadata": {
        "colab": {
          "base_uri": "https://localhost:8080/"
        },
        "id": "g9vbBT4Mj5TW",
        "outputId": "3f191549-91c0-4f2b-ac42-322029040df6"
      },
      "source": [
        "class TreeNode:\n",
        "  #creating two components to hold data & link\n",
        "  def __init__(self,data,children =[] ):\n",
        "    self.data = data\n",
        "    self.children = children\n",
        "\n",
        "\n",
        "  def __str__(self,level = 0):\n",
        "    ret = \"- \"* level + str(self.data) + \"\\n\"\n",
        "    for child in self.children:\n",
        "      ret += child.__str__(level +1)\n",
        "    return ret\n",
        "\n",
        "  #adding a child\n",
        "  def addChild(self,TreeNode):\n",
        "    self.children.append(TreeNode)\n",
        "\n",
        "tree = TreeNode('Drinks' ,[])       #---->root \n",
        "cold = TreeNode('Cold' ,[])         #----->child of root/tree\n",
        "hot = TreeNode('Hot' ,[])           #----->child of root/tree\n",
        "\n",
        "tree.addChild(cold)\n",
        "tree.addChild(hot)\n",
        "print(tree)\n",
        "\n",
        "coffe = TreeNode('Coffee',[])\n",
        "tea =  TreeNode('Tea',[])\n",
        "hot.addChild(coffe)               #----->child of hot\n",
        "hot.addChild(tea)                 #----->child of hot\n",
        "print(tree)\n",
        "\n",
        "\n",
        "\n",
        "coke = TreeNode('Coke',[])\n",
        "pepsi =  TreeNode('Pepsi',[])\n",
        "cold.addChild(coke)               #----->child of cold\n",
        "cold.addChild(pepsi)              #----->child of cold\n",
        "print(tree)"
      ],
      "execution_count": 7,
      "outputs": [
        {
          "output_type": "stream",
          "name": "stdout",
          "text": [
            "Drinks\n",
            "- Cold\n",
            "- Hot\n",
            "\n",
            "Drinks\n",
            "- Cold\n",
            "- Hot\n",
            "- - Coffee\n",
            "- - Tea\n",
            "\n",
            "Drinks\n",
            "- Cold\n",
            "- - Coke\n",
            "- - Pepsi\n",
            "- Hot\n",
            "- - Coffee\n",
            "- - Tea\n",
            "\n"
          ]
        }
      ]
    }
  ]
}