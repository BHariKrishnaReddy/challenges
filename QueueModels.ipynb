{
  "nbformat": 4,
  "nbformat_minor": 0,
  "metadata": {
    "colab": {
      "name": "QueueModels.ipynb",
      "provenance": []
    },
    "kernelspec": {
      "name": "python3",
      "display_name": "Python 3"
    },
    "language_info": {
      "name": "python"
    }
  },
  "cells": [
    {
      "cell_type": "markdown",
      "metadata": {
        "id": "6ZfZEgc_qhua"
      },
      "source": [
        "In python by using module we can implement it in 3 types\n",
        "1. Collection Module\n",
        ">deque(),append(),popleft(),clear()\n",
        "2. Queue Module\n",
        ">This model implements 3 types of CU,differ only in order in which entries are retieved. `qsize(), empty(), full(), put(), get(), task_done() and join()`\n",
        "\n",
        "3. Multiprocessing module\n",
        ">Sharing data btwn processes & can store any packable objects,Similar methods like Queue module"
      ]
    },
    {
      "cell_type": "markdown",
      "metadata": {
        "id": "GW8cAQ5RroKO"
      },
      "source": [
        "###Collection Module"
      ]
    },
    {
      "cell_type": "code",
      "metadata": {
        "colab": {
          "base_uri": "https://localhost:8080/"
        },
        "id": "El8GXXpfrvNc",
        "outputId": "2aa8756d-fbed-4a47-a7ea-c810ab521236"
      },
      "source": [
        "from collections import deque\n",
        "\n",
        "customQueue = deque(maxlen = 4)\n",
        "\n",
        "customQueue.append(1)\n",
        "customQueue.append(2)\n",
        "customQueue.append(3)\n",
        "customQueue.append(4)\n",
        "\n",
        "print(customQueue)\n",
        "\n",
        "customQueue.popleft()\n",
        "print(customQueue)\n",
        "\n",
        "customQueue.popleft()\n",
        "print(customQueue)\n",
        "\n",
        "customQueue.clear()\n",
        "print(customQueue)\n",
        "\n"
      ],
      "execution_count": 5,
      "outputs": [
        {
          "output_type": "stream",
          "name": "stdout",
          "text": [
            "deque([1, 2, 3, 4], maxlen=4)\n",
            "deque([2, 3, 4], maxlen=4)\n",
            "deque([3, 4], maxlen=4)\n",
            "deque([], maxlen=4)\n"
          ]
        }
      ]
    },
    {
      "cell_type": "markdown",
      "metadata": {
        "id": "H179SEYbruvP"
      },
      "source": [
        "###Queue Module"
      ]
    },
    {
      "cell_type": "code",
      "metadata": {
        "colab": {
          "base_uri": "https://localhost:8080/"
        },
        "id": "WhkwGuHcsvtk",
        "outputId": "e79feb45-c275-4b0c-ac90-73acbba5a2a3"
      },
      "source": [
        "import queue as q\n",
        "\n",
        "cq = q.Queue(maxsize=3)\n",
        "print(cq)\n",
        "\n",
        "print(cq.empty())\n",
        "cq.put(1)\n",
        "\n",
        "cq.put(2)\n",
        "\n",
        "cq.put(3)\n",
        "\n",
        "print(cq.get())\n",
        "\n",
        "print(cq.full())\n",
        "\n",
        "print(cq.qsize())"
      ],
      "execution_count": 8,
      "outputs": [
        {
          "output_type": "stream",
          "name": "stdout",
          "text": [
            "<queue.Queue object at 0x7f65c23d0150>\n",
            "True\n",
            "1\n",
            "False\n",
            "2\n"
          ]
        }
      ]
    },
    {
      "cell_type": "markdown",
      "metadata": {
        "id": "S-Rb8u04vMwS"
      },
      "source": [
        "###Multiprocessing"
      ]
    },
    {
      "cell_type": "code",
      "metadata": {
        "id": "bC2wMaUxve6w"
      },
      "source": [
        "from multiprocessing import Queue\n",
        "\n",
        "cq = Queue(maxsize = 3)\n",
        "\n",
        "cq.put(1)\n",
        "\n",
        "print(cq.get())\n",
        "\n",
        "#similar like Queue Module"
      ],
      "execution_count": null,
      "outputs": []
    }
  ]
}